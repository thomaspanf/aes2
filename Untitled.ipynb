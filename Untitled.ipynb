{
 "cells": [
  {
   "cell_type": "code",
   "execution_count": 30,
   "id": "a1986b20-b8fb-405e-ac70-474ae487e745",
   "metadata": {},
   "outputs": [
    {
     "name": "stdout",
     "output_type": "stream",
     "text": [
      "b'\\x90Q.=|\\xdf\\x8av\\xa5\\xde\\xa0k\\xce\\x91\\xbc6'\n",
      "The Key You Made Was:  [50, 49, 49, 102, 52, 98, 101, 57, 50, 49, 51, 51, 101, 101, 102, 97, 53, 57, 54, 53, 56, 99, 99, 98, 54, 55, 49, 100, 55, 53, 50, 101]\n",
      "The Key You Made Was:  b'211f4be92133eefa59658ccb671d752e'\n"
     ]
    }
   ],
   "source": [
    "import os\n",
    "import binascii\n",
    "key=binascii.hexlify(os.urandom(16))\n",
    "\n",
    "print(os.urandom(16))\n",
    "print ('The Key You Made Was: ', [x for x in key])\n",
    "print('The Key You Made Was: ', key)\n",
    "\n",
    "#RES 1\n",
    "#The Key You Made Was:  [56, 97, 97, 52, 53, 55, 56, 52, 49, 101, 53, 50, 57, 97, 53, 56, 54, 102, 52, 55, 52, 50, 54, 53, 55, 48, 54, 100, 55, 57, 48, 51]\n",
    "#The Key You Made Was:  b'8aa457841e529a586f474265706d7903'\n",
    "\n",
    "#The first output is the decimal representation of each distinct byte in key while the second output is\n",
    "#the hexadecimal represenation of the binary data. "
   ]
  },
  {
   "cell_type": "code",
   "execution_count": 29,
   "id": "ee2e57d4-42b8-4384-beb4-77530d748d80",
   "metadata": {},
   "outputs": [
    {
     "name": "stdout",
     "output_type": "stream",
     "text": [
      "The Key You Made Was:  [57, 48, 50, 102, 102, 98, 101, 50, 56, 53, 54, 54, 49, 54, 51, 51, 48, 51, 99, 55, 56, 53, 53, 51, 54, 97, 56, 102, 98, 102, 56, 52]\n",
      "The Key You Made Was:  [57, 48, 50, 102, 102, 98, 101, 50, 56, 53, 54, 54, 49, 54, 51, 51, 48, 51, 99, 55, 56, 53, 53, 51, 54, 97, 56, 102, 98, 102, 56, 52]\n"
     ]
    }
   ],
   "source": [
    "import os\n",
    "import binascii\n",
    "def write_key():\n",
    "# Make a random key with 16 bytes\n",
    "    key=binascii.hexlify(os.urandom(16))\n",
    "    print ('The Key You Made Was: ', [x for x in key])\n",
    "    with open(\"scratch.key\",\"wb\") as file:\n",
    "        file.write(key)\n",
    "\n",
    "def read_key():\n",
    "    with open(\"scratch.key\",\"rb\") as file:\n",
    "        keynew = file.read()\n",
    "        return keynew\n",
    "#Now the main body of the program…\n",
    "write_key()\n",
    "keys=read_key()\n",
    "print ('The Key You Made Was: ', [x for x in keys])\n",
    "\n",
    "#RES 2\n",
    "#The Key You Made Was:  [57, 48, 50, 102, 102, 98, 101, 50, 56, 53, 54, 54, 49, 54, 51, 51, 48, 51, 99, 55, 56, 53, 53, 51, 54, 97, 56, 102, 98, 102, 56, 52]\n",
    "#The Key You Made Was:  [57, 48, 50, 102, 102, 98, 101, 50, 56, 53, 54, 54, 49, 54, 51, 51, 48, 51, 99, 55, 56, 53, 53, 51, 54, 97, 56, 102, 98, 102, 56, 52]"
   ]
  },
  {
   "cell_type": "code",
   "execution_count": 4,
   "id": "418a547a-7743-438c-8767-f9ec74f03557",
   "metadata": {},
   "outputs": [
    {
     "name": "stdout",
     "output_type": "stream",
     "text": [
      "Done, finished writing and decrypting ECB mode\n"
     ]
    }
   ],
   "source": [
    "from Crypto.Cipher import AES\n",
    "\n",
    "key = b\"abcdabcdabcdabcd\"\n",
    "cipher = AES.new(key, AES.MODE_ECB)\n",
    "# encrypt using ECB mode\n",
    "with open(\"RutgersLogo.bmp\", \"rb\") as f:\n",
    "    byteblock = f.read()\n",
    "pad = len(byteblock)%16 * (-1)\n",
    "byteblock_trimmed = byteblock[64:pad]\n",
    "ciphertext = cipher.encrypt(byteblock_trimmed)\n",
    "ciphertext = byteblock[0:64] + ciphertext + byteblock[pad:]\n",
    "with open(\"RutgersLogoECB.bmp\", \"wb\") as f:\n",
    "    f.write(ciphertext)\n",
    "# decrypt using the reverse process\n",
    "with open(\"RutgersLogoECB.bmp\", \"rb\") as f:\n",
    "    byteblock = f.read()\n",
    "pad = len(byteblock)%16 * -1\n",
    "byteblock_trimmed = byteblock[64:pad]\n",
    "plaintext = cipher.decrypt(byteblock_trimmed)\n",
    "plaintext = byteblock[0:64] + plaintext + byteblock[pad:]\n",
    "with open(\"RutgersLogoECB_Dec.bmp\", \"wb\") as f:\n",
    "    byteblock = f.write(plaintext)\n",
    "print (\"Done, finished writing and decrypting ECB mode\")"
   ]
  },
  {
   "cell_type": "code",
   "execution_count": null,
   "id": "0397d1ee-9d01-42a8-9f12-81d0d957ebab",
   "metadata": {},
   "outputs": [],
   "source": []
  }
 ],
 "metadata": {
  "kernelspec": {
   "display_name": "Python 3 (ipykernel)",
   "language": "python",
   "name": "python3"
  },
  "language_info": {
   "codemirror_mode": {
    "name": "ipython",
    "version": 3
   },
   "file_extension": ".py",
   "mimetype": "text/x-python",
   "name": "python",
   "nbconvert_exporter": "python",
   "pygments_lexer": "ipython3",
   "version": "3.9.7"
  }
 },
 "nbformat": 4,
 "nbformat_minor": 5
}
